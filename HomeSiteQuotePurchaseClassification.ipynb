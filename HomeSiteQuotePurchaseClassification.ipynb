{
  "nbformat": 4,
  "nbformat_minor": 0,
  "metadata": {
    "colab": {
      "provenance": []
    },
    "kernelspec": {
      "name": "python3",
      "display_name": "Python 3"
    },
    "language_info": {
      "name": "python"
    }
  },
  "cells": [
    {
      "cell_type": "markdown",
      "source": [
        "# Connecting to GDrive"
      ],
      "metadata": {
        "id": "aVHPxMNf_GHs"
      }
    },
    {
      "cell_type": "code",
      "execution_count": null,
      "metadata": {
        "colab": {
          "base_uri": "https://localhost:8080/"
        },
        "id": "c_ugbAWv_Em8",
        "outputId": "57c97abc-5838-4cdc-8305-6f8437ec8813"
      },
      "outputs": [
        {
          "output_type": "stream",
          "name": "stdout",
          "text": [
            "Drive already mounted at /content/drive; to attempt to forcibly remount, call drive.mount(\"/content/drive\", force_remount=True).\n"
          ]
        }
      ],
      "source": [
        "from google.colab import drive\n",
        "drive.mount('/content/drive')"
      ]
    },
    {
      "cell_type": "markdown",
      "source": [
        "# Importing Libraries"
      ],
      "metadata": {
        "id": "5-Ox-xdl_Tnd"
      }
    },
    {
      "cell_type": "code",
      "source": [
        "!pip install vecstack\n",
        "!pip install feature_engine"
      ],
      "metadata": {
        "id": "_pYvuHK0cTPi"
      },
      "execution_count": null,
      "outputs": []
    },
    {
      "cell_type": "code",
      "source": [
        "import pandas as pd\n",
        "import numpy as np\n",
        "from sklearn.tree import DecisionTreeClassifier\n",
        "from sklearn.ensemble import RandomForestClassifier\n",
        "from sklearn.metrics import confusion_matrix,classification_report\n",
        "from sklearn.model_selection import train_test_split # Import train_test_split function\n",
        "from sklearn import metrics #Import scikit-learn metrics module for accuracy calculation\n",
        "from sklearn import tree\n",
        "from sklearn.metrics import accuracy_score, precision_score, recall_score,f1_score\n",
        "import feature_engine as fe\n",
        "from scipy import stats\n",
        "from sklearn.model_selection import RandomizedSearchCV\n",
        "from sklearn.model_selection import GridSearchCV\n",
        "import time\n",
        "import seaborn as sn\n",
        "import matplotlib.pyplot as plt\n",
        "from matplotlib import pyplot\n",
        "from vecstack import stacking\n",
        "from collections import Counter\n",
        "from sklearn.neural_network import MLPClassifier\n",
        "from sklearn.svm import LinearSVC\n",
        "from sklearn.ensemble import GradientBoostingClassifier\n",
        "from sklearn.neighbors import KNeighborsClassifier\n",
        "from sklearn.linear_model import LogisticRegression\n",
        "from sklearn.linear_model import LogisticRegressionCV\n",
        "from sklearn.ensemble import StackingClassifier\n",
        "from collections import defaultdict\n",
        "from imblearn.over_sampling import SMOTE \n",
        "from sklearn.metrics import roc_auc_score\n",
        "from sklearn.svm import SVC\n",
        "from collections import Counter"
      ],
      "metadata": {
        "id": "XHtCA0jh_waV"
      },
      "execution_count": null,
      "outputs": []
    },
    {
      "cell_type": "markdown",
      "source": [
        "# Reading required data files"
      ],
      "metadata": {
        "id": "uaF5f4iPDoXs"
      }
    },
    {
      "cell_type": "code",
      "source": [
        "#Read training data file\n",
        "trainfile = r'/content/drive/MyDrive/CIS508/Individual Assignment 3/train.csv'\n",
        "train_data = pd.read_csv(trainfile)\n",
        "\n",
        "#Read validation data file, test file will be created as a split of the train data\n",
        "testfile = r'/content/drive/MyDrive/CIS508/Individual Assignment 3/test.csv'\n",
        "test_data = pd.read_csv(testfile)"
      ],
      "metadata": {
        "id": "6JLyc0OdDsW7"
      },
      "execution_count": null,
      "outputs": []
    },
    {
      "cell_type": "markdown",
      "source": [
        "# Getting sense of the data"
      ],
      "metadata": {
        "id": "sJwr6-AvEqMq"
      }
    },
    {
      "cell_type": "code",
      "source": [
        "#Looking at data shape\n",
        "print(train_data.shape)\n",
        "print(test_data.shape)"
      ],
      "metadata": {
        "colab": {
          "base_uri": "https://localhost:8080/"
        },
        "id": "wTf31EJbE37i",
        "outputId": "cbe44a84-6966-4dd2-9917-aefa5eb1fd31"
      },
      "execution_count": null,
      "outputs": [
        {
          "output_type": "stream",
          "name": "stdout",
          "text": [
            "(260753, 299)\n",
            "(173836, 298)\n"
          ]
        }
      ]
    },
    {
      "cell_type": "code",
      "source": [
        "train_data.sample(5)"
      ],
      "metadata": {
        "colab": {
          "base_uri": "https://localhost:8080/",
          "height": 299
        },
        "id": "6_FZ46YjE6vG",
        "outputId": "a0ecccf4-3162-4fc8-d45e-896e5cde302a"
      },
      "execution_count": null,
      "outputs": [
        {
          "output_type": "execute_result",
          "data": {
            "text/plain": [
              "        QuoteNumber Original_Quote_Date  QuoteConversion_Flag Field6  Field7  \\\n",
              "226343       377353          2013-07-05                     0      B      23   \n",
              "172785       287930          2015-03-11                     0      B      25   \n",
              "130303       216894          2013-09-30                     1      B      24   \n",
              "224701       374563          2014-02-01                     0      E      14   \n",
              "171700       286131          2014-05-03                     1      F       7   \n",
              "\n",
              "        Field8  Field9 Field10  Field11 Field12  ...  GeographicField59A  \\\n",
              "226343  0.9403  0.0006     965   1.0200       N  ...                  12   \n",
              "172785  0.9153  0.0007     935   1.0200       N  ...                  13   \n",
              "130303  0.9403  0.0006     965   1.0200       N  ...                   4   \n",
              "224701  0.9472  0.0006   1,487   1.3045       N  ...                  22   \n",
              "171700  1.0006  0.0040     548   1.2433       N  ...                  10   \n",
              "\n",
              "        GeographicField59B  GeographicField60A  GeographicField60B  \\\n",
              "226343                  14                  -1                  24   \n",
              "172785                  16                  -1                  20   \n",
              "130303                   2                  -1                   2   \n",
              "224701                  24                  -1                  13   \n",
              "171700                  11                  -1                  23   \n",
              "\n",
              "        GeographicField61A  GeographicField61B  GeographicField62A  \\\n",
              "226343                  -1                   8                  -1   \n",
              "172785                  -1                   8                  -1   \n",
              "130303                  -1                  23                  25   \n",
              "224701                  -1                  22                  -1   \n",
              "171700                  -1                  10                  -1   \n",
              "\n",
              "        GeographicField62B  GeographicField63  GeographicField64  \n",
              "226343                   8                  N                 CA  \n",
              "172785                   8                  N                 CA  \n",
              "130303                  25                  N                 CA  \n",
              "224701                  21                  N                 IL  \n",
              "171700                  16                  N                 NJ  \n",
              "\n",
              "[5 rows x 299 columns]"
            ],
            "text/html": [
              "\n",
              "  <div id=\"df-30bff798-19ac-4035-8b94-aac6baab2c60\">\n",
              "    <div class=\"colab-df-container\">\n",
              "      <div>\n",
              "<style scoped>\n",
              "    .dataframe tbody tr th:only-of-type {\n",
              "        vertical-align: middle;\n",
              "    }\n",
              "\n",
              "    .dataframe tbody tr th {\n",
              "        vertical-align: top;\n",
              "    }\n",
              "\n",
              "    .dataframe thead th {\n",
              "        text-align: right;\n",
              "    }\n",
              "</style>\n",
              "<table border=\"1\" class=\"dataframe\">\n",
              "  <thead>\n",
              "    <tr style=\"text-align: right;\">\n",
              "      <th></th>\n",
              "      <th>QuoteNumber</th>\n",
              "      <th>Original_Quote_Date</th>\n",
              "      <th>QuoteConversion_Flag</th>\n",
              "      <th>Field6</th>\n",
              "      <th>Field7</th>\n",
              "      <th>Field8</th>\n",
              "      <th>Field9</th>\n",
              "      <th>Field10</th>\n",
              "      <th>Field11</th>\n",
              "      <th>Field12</th>\n",
              "      <th>...</th>\n",
              "      <th>GeographicField59A</th>\n",
              "      <th>GeographicField59B</th>\n",
              "      <th>GeographicField60A</th>\n",
              "      <th>GeographicField60B</th>\n",
              "      <th>GeographicField61A</th>\n",
              "      <th>GeographicField61B</th>\n",
              "      <th>GeographicField62A</th>\n",
              "      <th>GeographicField62B</th>\n",
              "      <th>GeographicField63</th>\n",
              "      <th>GeographicField64</th>\n",
              "    </tr>\n",
              "  </thead>\n",
              "  <tbody>\n",
              "    <tr>\n",
              "      <th>226343</th>\n",
              "      <td>377353</td>\n",
              "      <td>2013-07-05</td>\n",
              "      <td>0</td>\n",
              "      <td>B</td>\n",
              "      <td>23</td>\n",
              "      <td>0.9403</td>\n",
              "      <td>0.0006</td>\n",
              "      <td>965</td>\n",
              "      <td>1.0200</td>\n",
              "      <td>N</td>\n",
              "      <td>...</td>\n",
              "      <td>12</td>\n",
              "      <td>14</td>\n",
              "      <td>-1</td>\n",
              "      <td>24</td>\n",
              "      <td>-1</td>\n",
              "      <td>8</td>\n",
              "      <td>-1</td>\n",
              "      <td>8</td>\n",
              "      <td>N</td>\n",
              "      <td>CA</td>\n",
              "    </tr>\n",
              "    <tr>\n",
              "      <th>172785</th>\n",
              "      <td>287930</td>\n",
              "      <td>2015-03-11</td>\n",
              "      <td>0</td>\n",
              "      <td>B</td>\n",
              "      <td>25</td>\n",
              "      <td>0.9153</td>\n",
              "      <td>0.0007</td>\n",
              "      <td>935</td>\n",
              "      <td>1.0200</td>\n",
              "      <td>N</td>\n",
              "      <td>...</td>\n",
              "      <td>13</td>\n",
              "      <td>16</td>\n",
              "      <td>-1</td>\n",
              "      <td>20</td>\n",
              "      <td>-1</td>\n",
              "      <td>8</td>\n",
              "      <td>-1</td>\n",
              "      <td>8</td>\n",
              "      <td>N</td>\n",
              "      <td>CA</td>\n",
              "    </tr>\n",
              "    <tr>\n",
              "      <th>130303</th>\n",
              "      <td>216894</td>\n",
              "      <td>2013-09-30</td>\n",
              "      <td>1</td>\n",
              "      <td>B</td>\n",
              "      <td>24</td>\n",
              "      <td>0.9403</td>\n",
              "      <td>0.0006</td>\n",
              "      <td>965</td>\n",
              "      <td>1.0200</td>\n",
              "      <td>N</td>\n",
              "      <td>...</td>\n",
              "      <td>4</td>\n",
              "      <td>2</td>\n",
              "      <td>-1</td>\n",
              "      <td>2</td>\n",
              "      <td>-1</td>\n",
              "      <td>23</td>\n",
              "      <td>25</td>\n",
              "      <td>25</td>\n",
              "      <td>N</td>\n",
              "      <td>CA</td>\n",
              "    </tr>\n",
              "    <tr>\n",
              "      <th>224701</th>\n",
              "      <td>374563</td>\n",
              "      <td>2014-02-01</td>\n",
              "      <td>0</td>\n",
              "      <td>E</td>\n",
              "      <td>14</td>\n",
              "      <td>0.9472</td>\n",
              "      <td>0.0006</td>\n",
              "      <td>1,487</td>\n",
              "      <td>1.3045</td>\n",
              "      <td>N</td>\n",
              "      <td>...</td>\n",
              "      <td>22</td>\n",
              "      <td>24</td>\n",
              "      <td>-1</td>\n",
              "      <td>13</td>\n",
              "      <td>-1</td>\n",
              "      <td>22</td>\n",
              "      <td>-1</td>\n",
              "      <td>21</td>\n",
              "      <td>N</td>\n",
              "      <td>IL</td>\n",
              "    </tr>\n",
              "    <tr>\n",
              "      <th>171700</th>\n",
              "      <td>286131</td>\n",
              "      <td>2014-05-03</td>\n",
              "      <td>1</td>\n",
              "      <td>F</td>\n",
              "      <td>7</td>\n",
              "      <td>1.0006</td>\n",
              "      <td>0.0040</td>\n",
              "      <td>548</td>\n",
              "      <td>1.2433</td>\n",
              "      <td>N</td>\n",
              "      <td>...</td>\n",
              "      <td>10</td>\n",
              "      <td>11</td>\n",
              "      <td>-1</td>\n",
              "      <td>23</td>\n",
              "      <td>-1</td>\n",
              "      <td>10</td>\n",
              "      <td>-1</td>\n",
              "      <td>16</td>\n",
              "      <td>N</td>\n",
              "      <td>NJ</td>\n",
              "    </tr>\n",
              "  </tbody>\n",
              "</table>\n",
              "<p>5 rows × 299 columns</p>\n",
              "</div>\n",
              "      <button class=\"colab-df-convert\" onclick=\"convertToInteractive('df-30bff798-19ac-4035-8b94-aac6baab2c60')\"\n",
              "              title=\"Convert this dataframe to an interactive table.\"\n",
              "              style=\"display:none;\">\n",
              "        \n",
              "  <svg xmlns=\"http://www.w3.org/2000/svg\" height=\"24px\"viewBox=\"0 0 24 24\"\n",
              "       width=\"24px\">\n",
              "    <path d=\"M0 0h24v24H0V0z\" fill=\"none\"/>\n",
              "    <path d=\"M18.56 5.44l.94 2.06.94-2.06 2.06-.94-2.06-.94-.94-2.06-.94 2.06-2.06.94zm-11 1L8.5 8.5l.94-2.06 2.06-.94-2.06-.94L8.5 2.5l-.94 2.06-2.06.94zm10 10l.94 2.06.94-2.06 2.06-.94-2.06-.94-.94-2.06-.94 2.06-2.06.94z\"/><path d=\"M17.41 7.96l-1.37-1.37c-.4-.4-.92-.59-1.43-.59-.52 0-1.04.2-1.43.59L10.3 9.45l-7.72 7.72c-.78.78-.78 2.05 0 2.83L4 21.41c.39.39.9.59 1.41.59.51 0 1.02-.2 1.41-.59l7.78-7.78 2.81-2.81c.8-.78.8-2.07 0-2.86zM5.41 20L4 18.59l7.72-7.72 1.47 1.35L5.41 20z\"/>\n",
              "  </svg>\n",
              "      </button>\n",
              "      \n",
              "  <style>\n",
              "    .colab-df-container {\n",
              "      display:flex;\n",
              "      flex-wrap:wrap;\n",
              "      gap: 12px;\n",
              "    }\n",
              "\n",
              "    .colab-df-convert {\n",
              "      background-color: #E8F0FE;\n",
              "      border: none;\n",
              "      border-radius: 50%;\n",
              "      cursor: pointer;\n",
              "      display: none;\n",
              "      fill: #1967D2;\n",
              "      height: 32px;\n",
              "      padding: 0 0 0 0;\n",
              "      width: 32px;\n",
              "    }\n",
              "\n",
              "    .colab-df-convert:hover {\n",
              "      background-color: #E2EBFA;\n",
              "      box-shadow: 0px 1px 2px rgba(60, 64, 67, 0.3), 0px 1px 3px 1px rgba(60, 64, 67, 0.15);\n",
              "      fill: #174EA6;\n",
              "    }\n",
              "\n",
              "    [theme=dark] .colab-df-convert {\n",
              "      background-color: #3B4455;\n",
              "      fill: #D2E3FC;\n",
              "    }\n",
              "\n",
              "    [theme=dark] .colab-df-convert:hover {\n",
              "      background-color: #434B5C;\n",
              "      box-shadow: 0px 1px 3px 1px rgba(0, 0, 0, 0.15);\n",
              "      filter: drop-shadow(0px 1px 2px rgba(0, 0, 0, 0.3));\n",
              "      fill: #FFFFFF;\n",
              "    }\n",
              "  </style>\n",
              "\n",
              "      <script>\n",
              "        const buttonEl =\n",
              "          document.querySelector('#df-30bff798-19ac-4035-8b94-aac6baab2c60 button.colab-df-convert');\n",
              "        buttonEl.style.display =\n",
              "          google.colab.kernel.accessAllowed ? 'block' : 'none';\n",
              "\n",
              "        async function convertToInteractive(key) {\n",
              "          const element = document.querySelector('#df-30bff798-19ac-4035-8b94-aac6baab2c60');\n",
              "          const dataTable =\n",
              "            await google.colab.kernel.invokeFunction('convertToInteractive',\n",
              "                                                     [key], {});\n",
              "          if (!dataTable) return;\n",
              "\n",
              "          const docLinkHtml = 'Like what you see? Visit the ' +\n",
              "            '<a target=\"_blank\" href=https://colab.research.google.com/notebooks/data_table.ipynb>data table notebook</a>'\n",
              "            + ' to learn more about interactive tables.';\n",
              "          element.innerHTML = '';\n",
              "          dataTable['output_type'] = 'display_data';\n",
              "          await google.colab.output.renderOutput(dataTable, element);\n",
              "          const docLink = document.createElement('div');\n",
              "          docLink.innerHTML = docLinkHtml;\n",
              "          element.appendChild(docLink);\n",
              "        }\n",
              "      </script>\n",
              "    </div>\n",
              "  </div>\n",
              "  "
            ]
          },
          "metadata": {},
          "execution_count": 8
        }
      ]
    },
    {
      "cell_type": "code",
      "source": [
        "test_data.sample(5)"
      ],
      "metadata": {
        "colab": {
          "base_uri": "https://localhost:8080/",
          "height": 299
        },
        "id": "D2sm6NGQHBeR",
        "outputId": "37f1503c-c3b8-4634-c5ca-3c9dfdaa3fbe"
      },
      "execution_count": null,
      "outputs": [
        {
          "output_type": "execute_result",
          "data": {
            "text/plain": [
              "        QuoteNumber Original_Quote_Date Field6  Field7  Field8  Field9  \\\n",
              "24150         60621          2013-10-04      J      20  0.9497  0.0004   \n",
              "168398       421309          2014-10-21      F      23  1.0006  0.0040   \n",
              "49436        123767          2014-10-15      J      26  0.8793  0.0004   \n",
              "137040       342660          2014-06-19      F       7  1.0006  0.0040   \n",
              "142948       357158          2015-01-29      F       7  1.0005  0.0040   \n",
              "\n",
              "       Field10  Field11 Field12  CoverageField1A  ...  GeographicField59A  \\\n",
              "24150    1,165   1.2665       N                6  ...                  14   \n",
              "168398     548   1.2433       N                5  ...                  11   \n",
              "49436    1,113   1.2665       N                6  ...                   3   \n",
              "137040     548   1.2433       N               15  ...                  15   \n",
              "142948     548   1.2433       N               15  ...                  18   \n",
              "\n",
              "        GeographicField59B  GeographicField60A  GeographicField60B  \\\n",
              "24150                   17                  -1                  15   \n",
              "168398                  13                  -1                  23   \n",
              "49436                    2                  -1                   1   \n",
              "137040                  19                  -1                  21   \n",
              "142948                  22                  -1                  22   \n",
              "\n",
              "        GeographicField61A  GeographicField61B  GeographicField62A  \\\n",
              "24150                   -1                   4                  -1   \n",
              "168398                  -1                  18                  -1   \n",
              "49436                   -1                  15                  -1   \n",
              "137040                  -1                   4                  -1   \n",
              "142948                  -1                  15                  -1   \n",
              "\n",
              "        GeographicField62B  GeographicField63  GeographicField64  \n",
              "24150                   21                  N                 TX  \n",
              "168398                   8                  N                 NJ  \n",
              "49436                   23                  N                 TX  \n",
              "137040                  18                  N                 NJ  \n",
              "142948                  24                  N                 NJ  \n",
              "\n",
              "[5 rows x 298 columns]"
            ],
            "text/html": [
              "\n",
              "  <div id=\"df-8bc390e1-8505-476d-b4ac-c008be571712\">\n",
              "    <div class=\"colab-df-container\">\n",
              "      <div>\n",
              "<style scoped>\n",
              "    .dataframe tbody tr th:only-of-type {\n",
              "        vertical-align: middle;\n",
              "    }\n",
              "\n",
              "    .dataframe tbody tr th {\n",
              "        vertical-align: top;\n",
              "    }\n",
              "\n",
              "    .dataframe thead th {\n",
              "        text-align: right;\n",
              "    }\n",
              "</style>\n",
              "<table border=\"1\" class=\"dataframe\">\n",
              "  <thead>\n",
              "    <tr style=\"text-align: right;\">\n",
              "      <th></th>\n",
              "      <th>QuoteNumber</th>\n",
              "      <th>Original_Quote_Date</th>\n",
              "      <th>Field6</th>\n",
              "      <th>Field7</th>\n",
              "      <th>Field8</th>\n",
              "      <th>Field9</th>\n",
              "      <th>Field10</th>\n",
              "      <th>Field11</th>\n",
              "      <th>Field12</th>\n",
              "      <th>CoverageField1A</th>\n",
              "      <th>...</th>\n",
              "      <th>GeographicField59A</th>\n",
              "      <th>GeographicField59B</th>\n",
              "      <th>GeographicField60A</th>\n",
              "      <th>GeographicField60B</th>\n",
              "      <th>GeographicField61A</th>\n",
              "      <th>GeographicField61B</th>\n",
              "      <th>GeographicField62A</th>\n",
              "      <th>GeographicField62B</th>\n",
              "      <th>GeographicField63</th>\n",
              "      <th>GeographicField64</th>\n",
              "    </tr>\n",
              "  </thead>\n",
              "  <tbody>\n",
              "    <tr>\n",
              "      <th>24150</th>\n",
              "      <td>60621</td>\n",
              "      <td>2013-10-04</td>\n",
              "      <td>J</td>\n",
              "      <td>20</td>\n",
              "      <td>0.9497</td>\n",
              "      <td>0.0004</td>\n",
              "      <td>1,165</td>\n",
              "      <td>1.2665</td>\n",
              "      <td>N</td>\n",
              "      <td>6</td>\n",
              "      <td>...</td>\n",
              "      <td>14</td>\n",
              "      <td>17</td>\n",
              "      <td>-1</td>\n",
              "      <td>15</td>\n",
              "      <td>-1</td>\n",
              "      <td>4</td>\n",
              "      <td>-1</td>\n",
              "      <td>21</td>\n",
              "      <td>N</td>\n",
              "      <td>TX</td>\n",
              "    </tr>\n",
              "    <tr>\n",
              "      <th>168398</th>\n",
              "      <td>421309</td>\n",
              "      <td>2014-10-21</td>\n",
              "      <td>F</td>\n",
              "      <td>23</td>\n",
              "      <td>1.0006</td>\n",
              "      <td>0.0040</td>\n",
              "      <td>548</td>\n",
              "      <td>1.2433</td>\n",
              "      <td>N</td>\n",
              "      <td>5</td>\n",
              "      <td>...</td>\n",
              "      <td>11</td>\n",
              "      <td>13</td>\n",
              "      <td>-1</td>\n",
              "      <td>23</td>\n",
              "      <td>-1</td>\n",
              "      <td>18</td>\n",
              "      <td>-1</td>\n",
              "      <td>8</td>\n",
              "      <td>N</td>\n",
              "      <td>NJ</td>\n",
              "    </tr>\n",
              "    <tr>\n",
              "      <th>49436</th>\n",
              "      <td>123767</td>\n",
              "      <td>2014-10-15</td>\n",
              "      <td>J</td>\n",
              "      <td>26</td>\n",
              "      <td>0.8793</td>\n",
              "      <td>0.0004</td>\n",
              "      <td>1,113</td>\n",
              "      <td>1.2665</td>\n",
              "      <td>N</td>\n",
              "      <td>6</td>\n",
              "      <td>...</td>\n",
              "      <td>3</td>\n",
              "      <td>2</td>\n",
              "      <td>-1</td>\n",
              "      <td>1</td>\n",
              "      <td>-1</td>\n",
              "      <td>15</td>\n",
              "      <td>-1</td>\n",
              "      <td>23</td>\n",
              "      <td>N</td>\n",
              "      <td>TX</td>\n",
              "    </tr>\n",
              "    <tr>\n",
              "      <th>137040</th>\n",
              "      <td>342660</td>\n",
              "      <td>2014-06-19</td>\n",
              "      <td>F</td>\n",
              "      <td>7</td>\n",
              "      <td>1.0006</td>\n",
              "      <td>0.0040</td>\n",
              "      <td>548</td>\n",
              "      <td>1.2433</td>\n",
              "      <td>N</td>\n",
              "      <td>15</td>\n",
              "      <td>...</td>\n",
              "      <td>15</td>\n",
              "      <td>19</td>\n",
              "      <td>-1</td>\n",
              "      <td>21</td>\n",
              "      <td>-1</td>\n",
              "      <td>4</td>\n",
              "      <td>-1</td>\n",
              "      <td>18</td>\n",
              "      <td>N</td>\n",
              "      <td>NJ</td>\n",
              "    </tr>\n",
              "    <tr>\n",
              "      <th>142948</th>\n",
              "      <td>357158</td>\n",
              "      <td>2015-01-29</td>\n",
              "      <td>F</td>\n",
              "      <td>7</td>\n",
              "      <td>1.0005</td>\n",
              "      <td>0.0040</td>\n",
              "      <td>548</td>\n",
              "      <td>1.2433</td>\n",
              "      <td>N</td>\n",
              "      <td>15</td>\n",
              "      <td>...</td>\n",
              "      <td>18</td>\n",
              "      <td>22</td>\n",
              "      <td>-1</td>\n",
              "      <td>22</td>\n",
              "      <td>-1</td>\n",
              "      <td>15</td>\n",
              "      <td>-1</td>\n",
              "      <td>24</td>\n",
              "      <td>N</td>\n",
              "      <td>NJ</td>\n",
              "    </tr>\n",
              "  </tbody>\n",
              "</table>\n",
              "<p>5 rows × 298 columns</p>\n",
              "</div>\n",
              "      <button class=\"colab-df-convert\" onclick=\"convertToInteractive('df-8bc390e1-8505-476d-b4ac-c008be571712')\"\n",
              "              title=\"Convert this dataframe to an interactive table.\"\n",
              "              style=\"display:none;\">\n",
              "        \n",
              "  <svg xmlns=\"http://www.w3.org/2000/svg\" height=\"24px\"viewBox=\"0 0 24 24\"\n",
              "       width=\"24px\">\n",
              "    <path d=\"M0 0h24v24H0V0z\" fill=\"none\"/>\n",
              "    <path d=\"M18.56 5.44l.94 2.06.94-2.06 2.06-.94-2.06-.94-.94-2.06-.94 2.06-2.06.94zm-11 1L8.5 8.5l.94-2.06 2.06-.94-2.06-.94L8.5 2.5l-.94 2.06-2.06.94zm10 10l.94 2.06.94-2.06 2.06-.94-2.06-.94-.94-2.06-.94 2.06-2.06.94z\"/><path d=\"M17.41 7.96l-1.37-1.37c-.4-.4-.92-.59-1.43-.59-.52 0-1.04.2-1.43.59L10.3 9.45l-7.72 7.72c-.78.78-.78 2.05 0 2.83L4 21.41c.39.39.9.59 1.41.59.51 0 1.02-.2 1.41-.59l7.78-7.78 2.81-2.81c.8-.78.8-2.07 0-2.86zM5.41 20L4 18.59l7.72-7.72 1.47 1.35L5.41 20z\"/>\n",
              "  </svg>\n",
              "      </button>\n",
              "      \n",
              "  <style>\n",
              "    .colab-df-container {\n",
              "      display:flex;\n",
              "      flex-wrap:wrap;\n",
              "      gap: 12px;\n",
              "    }\n",
              "\n",
              "    .colab-df-convert {\n",
              "      background-color: #E8F0FE;\n",
              "      border: none;\n",
              "      border-radius: 50%;\n",
              "      cursor: pointer;\n",
              "      display: none;\n",
              "      fill: #1967D2;\n",
              "      height: 32px;\n",
              "      padding: 0 0 0 0;\n",
              "      width: 32px;\n",
              "    }\n",
              "\n",
              "    .colab-df-convert:hover {\n",
              "      background-color: #E2EBFA;\n",
              "      box-shadow: 0px 1px 2px rgba(60, 64, 67, 0.3), 0px 1px 3px 1px rgba(60, 64, 67, 0.15);\n",
              "      fill: #174EA6;\n",
              "    }\n",
              "\n",
              "    [theme=dark] .colab-df-convert {\n",
              "      background-color: #3B4455;\n",
              "      fill: #D2E3FC;\n",
              "    }\n",
              "\n",
              "    [theme=dark] .colab-df-convert:hover {\n",
              "      background-color: #434B5C;\n",
              "      box-shadow: 0px 1px 3px 1px rgba(0, 0, 0, 0.15);\n",
              "      filter: drop-shadow(0px 1px 2px rgba(0, 0, 0, 0.3));\n",
              "      fill: #FFFFFF;\n",
              "    }\n",
              "  </style>\n",
              "\n",
              "      <script>\n",
              "        const buttonEl =\n",
              "          document.querySelector('#df-8bc390e1-8505-476d-b4ac-c008be571712 button.colab-df-convert');\n",
              "        buttonEl.style.display =\n",
              "          google.colab.kernel.accessAllowed ? 'block' : 'none';\n",
              "\n",
              "        async function convertToInteractive(key) {\n",
              "          const element = document.querySelector('#df-8bc390e1-8505-476d-b4ac-c008be571712');\n",
              "          const dataTable =\n",
              "            await google.colab.kernel.invokeFunction('convertToInteractive',\n",
              "                                                     [key], {});\n",
              "          if (!dataTable) return;\n",
              "\n",
              "          const docLinkHtml = 'Like what you see? Visit the ' +\n",
              "            '<a target=\"_blank\" href=https://colab.research.google.com/notebooks/data_table.ipynb>data table notebook</a>'\n",
              "            + ' to learn more about interactive tables.';\n",
              "          element.innerHTML = '';\n",
              "          dataTable['output_type'] = 'display_data';\n",
              "          await google.colab.output.renderOutput(dataTable, element);\n",
              "          const docLink = document.createElement('div');\n",
              "          docLink.innerHTML = docLinkHtml;\n",
              "          element.appendChild(docLink);\n",
              "        }\n",
              "      </script>\n",
              "    </div>\n",
              "  </div>\n",
              "  "
            ]
          },
          "metadata": {},
          "execution_count": 9
        }
      ]
    },
    {
      "cell_type": "code",
      "source": [
        "# Checking the balance of dependent variable in the data recieved\n",
        "train_data['QuoteConversion_Flag'].value_counts()\n",
        "\n",
        "#This is a imbalanced class problem, evident from the difference in classes below"
      ],
      "metadata": {
        "colab": {
          "base_uri": "https://localhost:8080/"
        },
        "id": "ONlbPIydE-cx",
        "outputId": "3a80e6c6-540d-4d8d-94b6-f2fbee745969"
      },
      "execution_count": null,
      "outputs": [
        {
          "output_type": "execute_result",
          "data": {
            "text/plain": [
              "0    211859\n",
              "1     48894\n",
              "Name: QuoteConversion_Flag, dtype: int64"
            ]
          },
          "metadata": {},
          "execution_count": 10
        }
      ]
    },
    {
      "cell_type": "code",
      "source": [
        "#Checking for null values in each column\n",
        "(train_data.isnull().sum()*100/len(train_data)).sort_values(ascending = False)\n",
        "#the dataset does not have any null values"
      ],
      "metadata": {
        "colab": {
          "base_uri": "https://localhost:8080/"
        },
        "id": "AcxxfD6aHKrY",
        "outputId": "b05c27c5-3f97-471b-8ec8-52f66a93ae3a"
      },
      "execution_count": null,
      "outputs": [
        {
          "output_type": "execute_result",
          "data": {
            "text/plain": [
              "PropertyField29      76.963640\n",
              "PersonalField84      47.634351\n",
              "PropertyField38       0.467876\n",
              "PersonalField7        0.043336\n",
              "PropertyField36       0.043336\n",
              "                       ...    \n",
              "PersonalField58       0.000000\n",
              "PersonalField57       0.000000\n",
              "PersonalField56       0.000000\n",
              "PersonalField55       0.000000\n",
              "GeographicField64     0.000000\n",
              "Length: 299, dtype: float64"
            ]
          },
          "metadata": {},
          "execution_count": 11
        }
      ]
    },
    {
      "cell_type": "code",
      "source": [
        "(test_data.isnull().sum()*100/len(test_data)).sort_values(ascending = False)"
      ],
      "metadata": {
        "colab": {
          "base_uri": "https://localhost:8080/"
        },
        "id": "lWWiiEjmHN5a",
        "outputId": "9375db94-62d3-4d45-8927-144f78441c24"
      },
      "execution_count": null,
      "outputs": [
        {
          "output_type": "execute_result",
          "data": {
            "text/plain": [
              "PropertyField29      77.052509\n",
              "PersonalField84      47.638004\n",
              "PropertyField38       0.486666\n",
              "PropertyField3        0.039693\n",
              "PersonalField7        0.039693\n",
              "                       ...    \n",
              "PersonalField58       0.000000\n",
              "PersonalField57       0.000000\n",
              "PersonalField56       0.000000\n",
              "PersonalField55       0.000000\n",
              "GeographicField64     0.000000\n",
              "Length: 298, dtype: float64"
            ]
          },
          "metadata": {},
          "execution_count": 12
        }
      ]
    },
    {
      "cell_type": "markdown",
      "source": [
        "# EDA and Data Transformations"
      ],
      "metadata": {
        "id": "7K1MfGaVHQcZ"
      }
    },
    {
      "cell_type": "code",
      "source": [
        "# transforming dates to year and month and then dropping the original dates along with the data identifier\n",
        "train_data['year'] = pd.DatetimeIndex(train_data['Original_Quote_Date']).year\n",
        "train_data['month'] = pd.DatetimeIndex(train_data['Original_Quote_Date']).month\n",
        "train_data.drop(['Original_Quote_Date','QuoteNumber'], axis = 1, inplace=True)"
      ],
      "metadata": {
        "id": "1CByRz4HvrtN"
      },
      "execution_count": null,
      "outputs": []
    },
    {
      "cell_type": "code",
      "source": [
        "test_data['year'] = pd.DatetimeIndex(test_data['Original_Quote_Date']).year\n",
        "test_data['month'] = pd.DatetimeIndex(test_data['Original_Quote_Date']).month\n",
        "quote_num = test_data['QuoteNumber']\n",
        "test_data.drop(['Original_Quote_Date','QuoteNumber'], axis = 1, inplace=True)"
      ],
      "metadata": {
        "id": "CwHt1hbZwY4C"
      },
      "execution_count": null,
      "outputs": []
    },
    {
      "cell_type": "code",
      "source": [
        "# dropping fields that have a very high null value percentage\n",
        "train_data = train_data.drop(labels = [\"PropertyField29\",\"PersonalField84\"], axis = 1)\n",
        "test_data = test_data.drop(labels = [\"PropertyField29\",\"PersonalField84\"], axis = 1)"
      ],
      "metadata": {
        "id": "7SUx4XQd2PNZ"
      },
      "execution_count": null,
      "outputs": []
    },
    {
      "cell_type": "code",
      "source": [
        "# Creating the set of dependent and independent variables for test and train data\n",
        "X_train = train_data.drop(labels = \"QuoteConversion_Flag\", axis = 1)\n",
        "y_train = train_data[\"QuoteConversion_Flag\"]\n",
        "X_test = test_data"
      ],
      "metadata": {
        "id": "XFRAiAJCHSoR"
      },
      "execution_count": null,
      "outputs": []
    },
    {
      "cell_type": "markdown",
      "source": [
        "## Data Transformation and OneHotEncoding categorical variables\n",
        "\n",
        "\n"
      ],
      "metadata": {
        "id": "W20EcGi-cB0L"
      }
    },
    {
      "cell_type": "code",
      "source": [
        "# Drop duplicate and correlated variables\n",
        "from feature_engine.selection import DropDuplicateFeatures\n",
        "from feature_engine.selection import DropCorrelatedFeatures\n",
        "\n",
        "transformer = DropDuplicateFeatures()\n",
        "transformer.fit(X_train)\n",
        "X_train = transformer.transform(X_train)\n",
        "\n",
        "tr = DropCorrelatedFeatures(variables=None, method='pearson', threshold=0.8)\n",
        "X_train = tr.fit_transform(X_train)\n",
        "\n",
        "X_train.shape"
      ],
      "metadata": {
        "colab": {
          "base_uri": "https://localhost:8080/"
        },
        "id": "7WC9agdmcGeK",
        "outputId": "29b666d6-70c7-4597-b11e-422029c4a428"
      },
      "execution_count": null,
      "outputs": [
        {
          "output_type": "execute_result",
          "data": {
            "text/plain": [
              "(260753, 158)"
            ]
          },
          "metadata": {},
          "execution_count": 10
        }
      ]
    },
    {
      "cell_type": "code",
      "source": [
        "# keeping the same variables as train\n",
        "train_cols = list(X_train.columns)\n",
        "X_test = X_test[train_cols]"
      ],
      "metadata": {
        "id": "T3vp-c7iuiu8"
      },
      "execution_count": null,
      "outputs": []
    },
    {
      "cell_type": "code",
      "source": [
        "# Creating a list of categorical variable columns\n",
        "cat_features = X_train.select_dtypes(include=['object']).columns.tolist()\n",
        "len(cat_features)"
      ],
      "metadata": {
        "colab": {
          "base_uri": "https://localhost:8080/"
        },
        "id": "2-qLGxxhxTVK",
        "outputId": "8daefc23-c2f4-4e43-ae16-f33e9ebb9873"
      },
      "execution_count": null,
      "outputs": [
        {
          "output_type": "execute_result",
          "data": {
            "text/plain": [
              "27"
            ]
          },
          "metadata": {},
          "execution_count": 12
        }
      ]
    },
    {
      "cell_type": "code",
      "source": [
        "# converting all object columns to dummy variables\n",
        "for col in  cat_features:\n",
        "    X_train = pd.concat([X_train.drop(col, axis=1),pd.get_dummies(X_train[col], prefix=col, prefix_sep='_',drop_first=True, dummy_na=False)], axis=1)\n",
        "for col in  cat_features:\n",
        "    X_test = pd.concat([X_test.drop(col, axis=1),pd.get_dummies(X_test[col], prefix=col, prefix_sep='_',drop_first=True, dummy_na=False)], axis=1)"
      ],
      "metadata": {
        "id": "lVIyhgH-xXbb"
      },
      "execution_count": null,
      "outputs": []
    },
    {
      "cell_type": "code",
      "source": [
        "# considering columns that are present in both test and train\n",
        "_common = []\n",
        "for i in X_train.columns:\n",
        "    if i in X_test.columns:\n",
        "        _common.append(i)\n",
        "len(_common)"
      ],
      "metadata": {
        "colab": {
          "base_uri": "https://localhost:8080/"
        },
        "id": "GgR3NyIyASrm",
        "outputId": "fd33c121-1bc5-4349-a3bf-919abfc2b04f"
      },
      "execution_count": null,
      "outputs": [
        {
          "output_type": "execute_result",
          "data": {
            "text/plain": [
              "421"
            ]
          },
          "metadata": {},
          "execution_count": 14
        }
      ]
    },
    {
      "cell_type": "code",
      "source": [
        "X_train = X_train[_common]\n",
        "X_test = X_test[_common]"
      ],
      "metadata": {
        "id": "Ut9Tum50AU6d"
      },
      "execution_count": null,
      "outputs": []
    },
    {
      "cell_type": "code",
      "source": [
        "X_train.shape\n",
        "X_test.shape"
      ],
      "metadata": {
        "colab": {
          "base_uri": "https://localhost:8080/"
        },
        "id": "ypJsvH4kBJ2E",
        "outputId": "2781c38b-822b-4abc-8954-f4965a9f744a"
      },
      "execution_count": null,
      "outputs": [
        {
          "output_type": "execute_result",
          "data": {
            "text/plain": [
              "(173836, 421)"
            ]
          },
          "metadata": {},
          "execution_count": 17
        }
      ]
    },
    {
      "cell_type": "markdown",
      "source": [
        "## Data Sampling with SMOTE"
      ],
      "metadata": {
        "id": "rg-81fX0HlOC"
      }
    },
    {
      "cell_type": "code",
      "source": [
        "# finalised on 0.4 sampling strategy after trying out multiple percentages\n",
        "print('Original dataset shape %s' % Counter(y_train))\n",
        "sm = SMOTE(sampling_strategy=0.40)\n",
        "X_train, y_train = sm.fit_resample(X_train, y_train)\n",
        "print('Resampled dataset shape %s' % Counter(y_train))"
      ],
      "metadata": {
        "colab": {
          "base_uri": "https://localhost:8080/"
        },
        "id": "xs_5rwMcHmTq",
        "outputId": "211cde5c-9d3c-4f3e-901c-b852e9fe76d0"
      },
      "execution_count": null,
      "outputs": [
        {
          "output_type": "stream",
          "name": "stdout",
          "text": [
            "Original dataset shape Counter({0: 211859, 1: 48894})\n",
            "Resampled dataset shape Counter({0: 211859, 1: 84743})\n"
          ]
        }
      ]
    },
    {
      "cell_type": "markdown",
      "source": [
        "# Building individual models\n"
      ],
      "metadata": {
        "id": "aMbzO21qw6Wq"
      }
    },
    {
      "cell_type": "markdown",
      "source": [
        "### Creating a function for hyperparameter tuning for RandomForest"
      ],
      "metadata": {
        "id": "N79uMvUTOboh"
      }
    },
    {
      "cell_type": "code",
      "source": [
        "start_time = time.time()\n",
        "\n",
        "grid = {\n",
        "'min_samples_leaf' : range(10,100,10),'max_depth': \n",
        "            range(5,30,2),'criterion':['gini','entropy']\n",
        "}\n",
        "\n",
        "rf_class = RandomForestClassifier()\n",
        "\n",
        "hp_tuning = RandomizedSearchCV(estimator = rf_class, param_distributions = grid, n_iter = 100)\n",
        "\n",
        "hp_tuning.fit(S_train, y_train)\n",
        "\n",
        "best_params_dict = hp_tuning.best_params_\n",
        "\n",
        "print(best_params_dict)\n",
        "print(time.time()-start_time)"
      ],
      "metadata": {
        "id": "2DJy8r-7Oa8r"
      },
      "execution_count": null,
      "outputs": []
    },
    {
      "cell_type": "code",
      "source": [
        "# Logistic regression model\n",
        "lr = LogisticRegression()\n",
        "lr.fit(X_train, y_train)\n",
        "y_test = lr.predict_proba(X_test)\n",
        "\n",
        "kaggle_sub = pd.DataFrame({'QuoteNumber': quote_num,'QuoteConversion_Flag': y_test[:,1]})"
      ],
      "metadata": {
        "id": "ySx7zV3NyIqT"
      },
      "execution_count": null,
      "outputs": []
    },
    {
      "cell_type": "code",
      "source": [
        "from google.colab import files\n",
        "kaggle_sub.to_csv('HomeSiteLR.csv') \n",
        "files.download('HomeSiteLR.csv')"
      ],
      "metadata": {
        "colab": {
          "base_uri": "https://localhost:8080/",
          "height": 17
        },
        "id": "IGmABH52zUMR",
        "outputId": "83d19716-c4d1-435b-8eb3-48e405fa8c61"
      },
      "execution_count": null,
      "outputs": [
        {
          "output_type": "display_data",
          "data": {
            "text/plain": [
              "<IPython.core.display.Javascript object>"
            ],
            "application/javascript": [
              "\n",
              "    async function download(id, filename, size) {\n",
              "      if (!google.colab.kernel.accessAllowed) {\n",
              "        return;\n",
              "      }\n",
              "      const div = document.createElement('div');\n",
              "      const label = document.createElement('label');\n",
              "      label.textContent = `Downloading \"${filename}\": `;\n",
              "      div.appendChild(label);\n",
              "      const progress = document.createElement('progress');\n",
              "      progress.max = size;\n",
              "      div.appendChild(progress);\n",
              "      document.body.appendChild(div);\n",
              "\n",
              "      const buffers = [];\n",
              "      let downloaded = 0;\n",
              "\n",
              "      const channel = await google.colab.kernel.comms.open(id);\n",
              "      // Send a message to notify the kernel that we're ready.\n",
              "      channel.send({})\n",
              "\n",
              "      for await (const message of channel.messages) {\n",
              "        // Send a message to notify the kernel that we're ready.\n",
              "        channel.send({})\n",
              "        if (message.buffers) {\n",
              "          for (const buffer of message.buffers) {\n",
              "            buffers.push(buffer);\n",
              "            downloaded += buffer.byteLength;\n",
              "            progress.value = downloaded;\n",
              "          }\n",
              "        }\n",
              "      }\n",
              "      const blob = new Blob(buffers, {type: 'application/binary'});\n",
              "      const a = document.createElement('a');\n",
              "      a.href = window.URL.createObjectURL(blob);\n",
              "      a.download = filename;\n",
              "      div.appendChild(a);\n",
              "      a.click();\n",
              "      div.remove();\n",
              "    }\n",
              "  "
            ]
          },
          "metadata": {}
        },
        {
          "output_type": "display_data",
          "data": {
            "text/plain": [
              "<IPython.core.display.Javascript object>"
            ],
            "application/javascript": [
              "download(\"download_8cde7a03-498d-45ce-a819-02c9121b48fd\", \"HomeSiteLR.csv\", 5692465)"
            ]
          },
          "metadata": {}
        }
      ]
    },
    {
      "cell_type": "code",
      "source": [
        "# Decision tree model\n",
        "dt = DecisionTreeClassifier()\n",
        "dt.fit(X_train, y_train)\n",
        "y_test = dt.predict_proba(X_test)\n",
        "\n",
        "kaggle_sub = pd.DataFrame({'QuoteNumber': quote_num,'QuoteConversion_Flag': y_test[:,1]})"
      ],
      "metadata": {
        "id": "5rSVgEoryPhy"
      },
      "execution_count": null,
      "outputs": []
    },
    {
      "cell_type": "code",
      "source": [
        "from google.colab import files\n",
        "kaggle_sub.to_csv('HomeSiteDT.csv') \n",
        "files.download('HomeSiteDT.csv')"
      ],
      "metadata": {
        "colab": {
          "base_uri": "https://localhost:8080/",
          "height": 17
        },
        "id": "4wrSgjCDzfKi",
        "outputId": "23eea0e4-17de-4735-d962-603e23523c12"
      },
      "execution_count": null,
      "outputs": [
        {
          "output_type": "display_data",
          "data": {
            "text/plain": [
              "<IPython.core.display.Javascript object>"
            ],
            "application/javascript": [
              "\n",
              "    async function download(id, filename, size) {\n",
              "      if (!google.colab.kernel.accessAllowed) {\n",
              "        return;\n",
              "      }\n",
              "      const div = document.createElement('div');\n",
              "      const label = document.createElement('label');\n",
              "      label.textContent = `Downloading \"${filename}\": `;\n",
              "      div.appendChild(label);\n",
              "      const progress = document.createElement('progress');\n",
              "      progress.max = size;\n",
              "      div.appendChild(progress);\n",
              "      document.body.appendChild(div);\n",
              "\n",
              "      const buffers = [];\n",
              "      let downloaded = 0;\n",
              "\n",
              "      const channel = await google.colab.kernel.comms.open(id);\n",
              "      // Send a message to notify the kernel that we're ready.\n",
              "      channel.send({})\n",
              "\n",
              "      for await (const message of channel.messages) {\n",
              "        // Send a message to notify the kernel that we're ready.\n",
              "        channel.send({})\n",
              "        if (message.buffers) {\n",
              "          for (const buffer of message.buffers) {\n",
              "            buffers.push(buffer);\n",
              "            downloaded += buffer.byteLength;\n",
              "            progress.value = downloaded;\n",
              "          }\n",
              "        }\n",
              "      }\n",
              "      const blob = new Blob(buffers, {type: 'application/binary'});\n",
              "      const a = document.createElement('a');\n",
              "      a.href = window.URL.createObjectURL(blob);\n",
              "      a.download = filename;\n",
              "      div.appendChild(a);\n",
              "      a.click();\n",
              "      div.remove();\n",
              "    }\n",
              "  "
            ]
          },
          "metadata": {}
        },
        {
          "output_type": "display_data",
          "data": {
            "text/plain": [
              "<IPython.core.display.Javascript object>"
            ],
            "application/javascript": [
              "download(\"download_fd279af7-bf69-43cf-b53c-5acbc13c311f\", \"HomeSiteDT.csv\", 2973603)"
            ]
          },
          "metadata": {}
        }
      ]
    },
    {
      "cell_type": "code",
      "source": [
        "#RandomForest model\n",
        "rf = RandomForestClassifier(n_estimators=50,min_samples_leaf = best_params_dict['min_samples_leaf']\n",
        "           ,max_depth = best_params_dict['max_depth']\n",
        "           ,criterion = best_params_dict['criterion'])\n",
        "rf.fit(X_train, y_train)\n",
        "y_test = rf.predict_proba(X_test)\n",
        "\n",
        "kaggle_sub = pd.DataFrame({'QuoteNumber': quote_num,'QuoteConversion_Flag': y_test[:,1]})"
      ],
      "metadata": {
        "id": "yj_u0aOlyQP6"
      },
      "execution_count": null,
      "outputs": []
    },
    {
      "cell_type": "code",
      "source": [
        "from google.colab import files\n",
        "kaggle_sub.to_csv('HomeSiteRF.csv') \n",
        "files.download('HomeSiteRF.csv')"
      ],
      "metadata": {
        "colab": {
          "base_uri": "https://localhost:8080/",
          "height": 17
        },
        "id": "17EIGrTrznHR",
        "outputId": "3f2e1bfa-3cfe-4405-8a56-e54a4121c4fa"
      },
      "execution_count": null,
      "outputs": [
        {
          "output_type": "display_data",
          "data": {
            "text/plain": [
              "<IPython.core.display.Javascript object>"
            ],
            "application/javascript": [
              "\n",
              "    async function download(id, filename, size) {\n",
              "      if (!google.colab.kernel.accessAllowed) {\n",
              "        return;\n",
              "      }\n",
              "      const div = document.createElement('div');\n",
              "      const label = document.createElement('label');\n",
              "      label.textContent = `Downloading \"${filename}\": `;\n",
              "      div.appendChild(label);\n",
              "      const progress = document.createElement('progress');\n",
              "      progress.max = size;\n",
              "      div.appendChild(progress);\n",
              "      document.body.appendChild(div);\n",
              "\n",
              "      const buffers = [];\n",
              "      let downloaded = 0;\n",
              "\n",
              "      const channel = await google.colab.kernel.comms.open(id);\n",
              "      // Send a message to notify the kernel that we're ready.\n",
              "      channel.send({})\n",
              "\n",
              "      for await (const message of channel.messages) {\n",
              "        // Send a message to notify the kernel that we're ready.\n",
              "        channel.send({})\n",
              "        if (message.buffers) {\n",
              "          for (const buffer of message.buffers) {\n",
              "            buffers.push(buffer);\n",
              "            downloaded += buffer.byteLength;\n",
              "            progress.value = downloaded;\n",
              "          }\n",
              "        }\n",
              "      }\n",
              "      const blob = new Blob(buffers, {type: 'application/binary'});\n",
              "      const a = document.createElement('a');\n",
              "      a.href = window.URL.createObjectURL(blob);\n",
              "      a.download = filename;\n",
              "      div.appendChild(a);\n",
              "      a.click();\n",
              "      div.remove();\n",
              "    }\n",
              "  "
            ]
          },
          "metadata": {}
        },
        {
          "output_type": "display_data",
          "data": {
            "text/plain": [
              "<IPython.core.display.Javascript object>"
            ],
            "application/javascript": [
              "download(\"download_469bd6a0-9fce-48bf-9f9a-7b6c0922d777\", \"HomeSiteRF.csv\", 3085620)"
            ]
          },
          "metadata": {}
        }
      ]
    },
    {
      "cell_type": "markdown",
      "source": [
        "# Building stacked models"
      ],
      "metadata": {
        "id": "NVwAqzrkrnKx"
      }
    },
    {
      "cell_type": "code",
      "source": [
        "# Building the level 0(Base) model in stacking\n",
        "models = [KNeighborsClassifier(), LinearSVC(), RandomForestClassifier(), DecisionTreeClassifier(), MLPClassifier() ]\n",
        "\n",
        "S_train, S_test = stacking(models,                     # list of models\n",
        "                           X_train, y_train ,X_test,   # data\n",
        "                           regression=False,           # classification task (if you need \n",
        "                                                       #     regression - set to True)\n",
        "                           mode='oof_pred_bag',        # mode: oof for train set, predict test \n",
        "                                                       #     set in each fold and vote\n",
        "                           needs_proba=False,          # predict class labels (if you need \n",
        "                                                       #     probabilities - set to True) \n",
        "                           save_dir=None,              # do not save result and log (to save \n",
        "                                                       #     in current dir - set to '.')\n",
        "                           metric=roc_auc_score,      # metric: callable\n",
        "                           n_folds=2,                  # number of folds\n",
        "                           stratified=True,            # stratified split for folds\n",
        "                           shuffle=True,               # shuffle the data\n",
        "                           random_state=0,             # ensure reproducibility\n",
        "                           verbose=2)                  # print all info"
      ],
      "metadata": {
        "colab": {
          "base_uri": "https://localhost:8080/"
        },
        "id": "RpyAq8WJrsFL",
        "outputId": "6c40f238-1b26-4b0d-dca5-0447ddefd1cf"
      },
      "execution_count": null,
      "outputs": [
        {
          "metadata": {
            "tags": null
          },
          "name": "stdout",
          "output_type": "stream",
          "text": [
            "task:         [classification]\n",
            "n_classes:    [2]\n",
            "metric:       [roc_auc_score]\n",
            "mode:         [oof_pred_bag]\n",
            "n_models:     [5]\n",
            "\n",
            "model  0:     [KNeighborsClassifier]\n",
            "    fold  0:  [0.66127189]\n",
            "    fold  1:  [0.66109083]\n",
            "    ----\n",
            "    MEAN:     [0.66118136] + [0.00009053]\n",
            "    FULL:     [0.66118133]\n",
            "\n",
            "model  1:     [LinearSVC]\n"
          ]
        },
        {
          "metadata": {
            "tags": null
          },
          "name": "stderr",
          "output_type": "stream",
          "text": [
            "/usr/local/lib/python3.7/dist-packages/sklearn/svm/_base.py:1208: ConvergenceWarning: Liblinear failed to converge, increase the number of iterations.\n",
            "  ConvergenceWarning,\n"
          ]
        },
        {
          "metadata": {
            "tags": null
          },
          "name": "stdout",
          "output_type": "stream",
          "text": [
            "    fold  0:  [0.61967761]\n"
          ]
        },
        {
          "metadata": {
            "tags": null
          },
          "name": "stderr",
          "output_type": "stream",
          "text": [
            "/usr/local/lib/python3.7/dist-packages/sklearn/svm/_base.py:1208: ConvergenceWarning: Liblinear failed to converge, increase the number of iterations.\n",
            "  ConvergenceWarning,\n"
          ]
        },
        {
          "output_type": "stream",
          "name": "stdout",
          "text": [
            "    fold  1:  [0.59173600]\n",
            "    ----\n",
            "    MEAN:     [0.60570681] + [0.01397080]\n",
            "    FULL:     [0.60570949]\n",
            "\n",
            "model  2:     [RandomForestClassifier]\n",
            "    fold  0:  [0.87567254]\n",
            "    fold  1:  [0.88190295]\n",
            "    ----\n",
            "    MEAN:     [0.87878775] + [0.00311521]\n",
            "    FULL:     [0.87878777]\n",
            "\n",
            "model  3:     [DecisionTreeClassifier]\n",
            "    fold  0:  [0.85257000]\n",
            "    fold  1:  [0.85205282]\n",
            "    ----\n",
            "    MEAN:     [0.85231141] + [0.00025859]\n",
            "    FULL:     [0.85231142]\n",
            "\n",
            "model  4:     [MLPClassifier]\n",
            "    fold  0:  [0.66234978]\n",
            "    fold  1:  [0.87616521]\n",
            "    ----\n",
            "    MEAN:     [0.76925750] + [0.10690772]\n",
            "    FULL:     [0.76925666]\n",
            "\n"
          ]
        }
      ]
    },
    {
      "cell_type": "markdown",
      "source": [
        "### Building Level 1 models on Level 0 models"
      ],
      "metadata": {
        "id": "f3lgSt020jIZ"
      }
    },
    {
      "cell_type": "code",
      "source": [
        "# Logistic regression model (Level 1 model)\n",
        "lr = LogisticRegression()\n",
        "lr.fit(S_train, y_train)\n",
        "y_test = lr.predict_proba(S_test)\n",
        "\n",
        "kaggle_sub = pd.DataFrame({'QuoteNumber': quote_num,'QuoteConversion_Flag': y_test[:,1]})"
      ],
      "metadata": {
        "id": "CxtIednP0rCR"
      },
      "execution_count": null,
      "outputs": []
    },
    {
      "cell_type": "code",
      "source": [
        "from google.colab import files\n",
        "kaggle_sub.to_csv('HomeSiteLR_stacked.csv') \n",
        "files.download('HomeSiteLR_stacked.csv')"
      ],
      "metadata": {
        "id": "1PUhqXVW1FgJ",
        "colab": {
          "base_uri": "https://localhost:8080/",
          "height": 17
        },
        "outputId": "a3d07139-ad56-4132-b8c1-be0c47221beb"
      },
      "execution_count": null,
      "outputs": [
        {
          "output_type": "display_data",
          "data": {
            "text/plain": [
              "<IPython.core.display.Javascript object>"
            ],
            "application/javascript": [
              "\n",
              "    async function download(id, filename, size) {\n",
              "      if (!google.colab.kernel.accessAllowed) {\n",
              "        return;\n",
              "      }\n",
              "      const div = document.createElement('div');\n",
              "      const label = document.createElement('label');\n",
              "      label.textContent = `Downloading \"${filename}\": `;\n",
              "      div.appendChild(label);\n",
              "      const progress = document.createElement('progress');\n",
              "      progress.max = size;\n",
              "      div.appendChild(progress);\n",
              "      document.body.appendChild(div);\n",
              "\n",
              "      const buffers = [];\n",
              "      let downloaded = 0;\n",
              "\n",
              "      const channel = await google.colab.kernel.comms.open(id);\n",
              "      // Send a message to notify the kernel that we're ready.\n",
              "      channel.send({})\n",
              "\n",
              "      for await (const message of channel.messages) {\n",
              "        // Send a message to notify the kernel that we're ready.\n",
              "        channel.send({})\n",
              "        if (message.buffers) {\n",
              "          for (const buffer of message.buffers) {\n",
              "            buffers.push(buffer);\n",
              "            downloaded += buffer.byteLength;\n",
              "            progress.value = downloaded;\n",
              "          }\n",
              "        }\n",
              "      }\n",
              "      const blob = new Blob(buffers, {type: 'application/binary'});\n",
              "      const a = document.createElement('a');\n",
              "      a.href = window.URL.createObjectURL(blob);\n",
              "      a.download = filename;\n",
              "      div.appendChild(a);\n",
              "      a.click();\n",
              "      div.remove();\n",
              "    }\n",
              "  "
            ]
          },
          "metadata": {}
        },
        {
          "output_type": "display_data",
          "data": {
            "text/plain": [
              "<IPython.core.display.Javascript object>"
            ],
            "application/javascript": [
              "download(\"download_aaab9a41-d6b5-430b-a281-39960e1f6fb3\", \"HomeSiteLR_stacked.csv\", 5845377)"
            ]
          },
          "metadata": {}
        }
      ]
    },
    {
      "cell_type": "code",
      "source": [
        "# Decision tree model (Level 1 model)\n",
        "dt = DecisionTreeClassifier()\n",
        "dt.fit(S_train, y_train)\n",
        "y_test = dt.predict_proba(S_test)\n",
        "\n",
        "kaggle_sub = pd.DataFrame({'QuoteNumber': quote_num,'QuoteConversion_Flag': y_test[:,1]})"
      ],
      "metadata": {
        "id": "C0tSrMTw03eR"
      },
      "execution_count": null,
      "outputs": []
    },
    {
      "cell_type": "code",
      "source": [
        "from google.colab import files\n",
        "kaggle_sub.to_csv('HomeSiteDT_stacked.csv') \n",
        "files.download('HomeSiteDT_stacked.csv')"
      ],
      "metadata": {
        "id": "CfMCODus1MGo",
        "colab": {
          "base_uri": "https://localhost:8080/",
          "height": 17
        },
        "outputId": "f5d0d436-d7a3-42f7-bb4e-63662cbfe440"
      },
      "execution_count": null,
      "outputs": [
        {
          "output_type": "display_data",
          "data": {
            "text/plain": [
              "<IPython.core.display.Javascript object>"
            ],
            "application/javascript": [
              "\n",
              "    async function download(id, filename, size) {\n",
              "      if (!google.colab.kernel.accessAllowed) {\n",
              "        return;\n",
              "      }\n",
              "      const div = document.createElement('div');\n",
              "      const label = document.createElement('label');\n",
              "      label.textContent = `Downloading \"${filename}\": `;\n",
              "      div.appendChild(label);\n",
              "      const progress = document.createElement('progress');\n",
              "      progress.max = size;\n",
              "      div.appendChild(progress);\n",
              "      document.body.appendChild(div);\n",
              "\n",
              "      const buffers = [];\n",
              "      let downloaded = 0;\n",
              "\n",
              "      const channel = await google.colab.kernel.comms.open(id);\n",
              "      // Send a message to notify the kernel that we're ready.\n",
              "      channel.send({})\n",
              "\n",
              "      for await (const message of channel.messages) {\n",
              "        // Send a message to notify the kernel that we're ready.\n",
              "        channel.send({})\n",
              "        if (message.buffers) {\n",
              "          for (const buffer of message.buffers) {\n",
              "            buffers.push(buffer);\n",
              "            downloaded += buffer.byteLength;\n",
              "            progress.value = downloaded;\n",
              "          }\n",
              "        }\n",
              "      }\n",
              "      const blob = new Blob(buffers, {type: 'application/binary'});\n",
              "      const a = document.createElement('a');\n",
              "      a.href = window.URL.createObjectURL(blob);\n",
              "      a.download = filename;\n",
              "      div.appendChild(a);\n",
              "      a.click();\n",
              "      div.remove();\n",
              "    }\n",
              "  "
            ]
          },
          "metadata": {}
        },
        {
          "output_type": "display_data",
          "data": {
            "text/plain": [
              "<IPython.core.display.Javascript object>"
            ],
            "application/javascript": [
              "download(\"download_d0938446-7c07-43e2-a900-d971c6f36272\", \"HomeSiteDT_stacked.csv\", 5809140)"
            ]
          },
          "metadata": {}
        }
      ]
    },
    {
      "cell_type": "code",
      "source": [
        "# RandomForest model (Using the hyperparameter tuning for RF) (Level 1 model)\n",
        "rf = RandomForestClassifier(n_estimators=50,min_samples_leaf = best_params_dict['min_samples_leaf']\n",
        "           ,max_depth = best_params_dict['max_depth']\n",
        "           ,criterion = best_params_dict['criterion'])\n",
        "rf.fit(S_train, y_train)\n",
        "y_test = rf.predict_proba(S_test)\n",
        "\n",
        "kaggle_sub = pd.DataFrame({'QuoteNumber': quote_num,'QuoteConversion_Flag': y_test[:,1]})"
      ],
      "metadata": {
        "id": "Xpxh8rV309iA"
      },
      "execution_count": null,
      "outputs": []
    },
    {
      "cell_type": "code",
      "source": [
        "from google.colab import files\n",
        "kaggle_sub.to_csv('HomeSiteRF_stacked.csv') \n",
        "files.download('HomeSiteRF_stacked.csv')"
      ],
      "metadata": {
        "id": "Txe4wMTT1Opp",
        "colab": {
          "base_uri": "https://localhost:8080/",
          "height": 17
        },
        "outputId": "9baf54f1-95b8-4e5d-b6d7-d5835a9896f6"
      },
      "execution_count": null,
      "outputs": [
        {
          "output_type": "display_data",
          "data": {
            "text/plain": [
              "<IPython.core.display.Javascript object>"
            ],
            "application/javascript": [
              "\n",
              "    async function download(id, filename, size) {\n",
              "      if (!google.colab.kernel.accessAllowed) {\n",
              "        return;\n",
              "      }\n",
              "      const div = document.createElement('div');\n",
              "      const label = document.createElement('label');\n",
              "      label.textContent = `Downloading \"${filename}\": `;\n",
              "      div.appendChild(label);\n",
              "      const progress = document.createElement('progress');\n",
              "      progress.max = size;\n",
              "      div.appendChild(progress);\n",
              "      document.body.appendChild(div);\n",
              "\n",
              "      const buffers = [];\n",
              "      let downloaded = 0;\n",
              "\n",
              "      const channel = await google.colab.kernel.comms.open(id);\n",
              "      // Send a message to notify the kernel that we're ready.\n",
              "      channel.send({})\n",
              "\n",
              "      for await (const message of channel.messages) {\n",
              "        // Send a message to notify the kernel that we're ready.\n",
              "        channel.send({})\n",
              "        if (message.buffers) {\n",
              "          for (const buffer of message.buffers) {\n",
              "            buffers.push(buffer);\n",
              "            downloaded += buffer.byteLength;\n",
              "            progress.value = downloaded;\n",
              "          }\n",
              "        }\n",
              "      }\n",
              "      const blob = new Blob(buffers, {type: 'application/binary'});\n",
              "      const a = document.createElement('a');\n",
              "      a.href = window.URL.createObjectURL(blob);\n",
              "      a.download = filename;\n",
              "      div.appendChild(a);\n",
              "      a.click();\n",
              "      div.remove();\n",
              "    }\n",
              "  "
            ]
          },
          "metadata": {}
        },
        {
          "output_type": "display_data",
          "data": {
            "text/plain": [
              "<IPython.core.display.Javascript object>"
            ],
            "application/javascript": [
              "download(\"download_8a9e6cf8-faba-4469-bd54-471b37854b06\", \"HomeSiteRF_stacked.csv\", 5853915)"
            ]
          },
          "metadata": {}
        }
      ]
    }
  ]
}